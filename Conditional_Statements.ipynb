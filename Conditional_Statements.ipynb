{
  "nbformat": 4,
  "nbformat_minor": 0,
  "metadata": {
    "colab": {
      "name": "Conditional Statements",
      "provenance": []
    },
    "kernelspec": {
      "name": "python3",
      "display_name": "Python 3"
    }
  },
  "cells": [
    {
      "cell_type": "code",
      "metadata": {
        "id": "taRhFP3xNH-f"
      },
      "source": [
        "#Simple If statement\n",
        "# If else statement\n",
        "# nested if statement"
      ],
      "execution_count": null,
      "outputs": []
    },
    {
      "cell_type": "code",
      "metadata": {
        "id": "QqXnsBLdENAn",
        "colab": {
          "base_uri": "https://localhost:8080/",
          "height": 34
        },
        "outputId": "3cdb130d-dcea-48ec-c413-b58f71cc5a5a"
      },
      "source": [
        "a = 7\n",
        "if a %2==0:\n",
        "  print(\"even\")\n",
        "else:\n",
        "  print(\"odd\")  \n"
      ],
      "execution_count": null,
      "outputs": [
        {
          "output_type": "stream",
          "text": [
            "odd\n"
          ],
          "name": "stdout"
        }
      ]
    },
    {
      "cell_type": "code",
      "metadata": {
        "id": "_l7Gqm7yOsrF",
        "colab": {
          "base_uri": "https://localhost:8080/",
          "height": 50
        },
        "outputId": "1af7ed5a-f984-40e2-b419-61bfe41f50b9"
      },
      "source": [
        "a = int(input(\"Enter a number: \"))\n",
        "if a==5:\n",
        "  print(\"Five\")\n",
        "elif a == 6:\n",
        "  print(\"Six\")\n",
        "elif a == 7:\n",
        "  print(\"Seven\")\n",
        "else:\n",
        "  print(\"Hello\")      "
      ],
      "execution_count": null,
      "outputs": [
        {
          "output_type": "stream",
          "text": [
            "Enter a number: 8\n",
            "Hello\n"
          ],
          "name": "stdout"
        }
      ]
    },
    {
      "cell_type": "code",
      "metadata": {
        "id": "rVvVuwlcQFG4",
        "colab": {
          "base_uri": "https://localhost:8080/",
          "height": 67
        },
        "outputId": "f1e8fbc6-4b0f-4181-cf4c-c1b4b0b0f205"
      },
      "source": [
        "Book_genre= input(\"Enter a book genre:\")\n",
        "bookname = input(\"Enter a book name:\")\n",
        "if Book_genre == \"fiction\":\n",
        "  if bookname == \"A Tale of Two Cities\":\n",
        "    print(\"enter\")\n",
        "else:\n",
        "  print(\"sorry we have only A Tale of Two Cities \")   \n",
        "\n",
        "\n"
      ],
      "execution_count": null,
      "outputs": [
        {
          "output_type": "stream",
          "text": [
            "Enter a book genre:ghgh\n",
            "Enter a book name:ffdd\n",
            "sorry we have only A Tale of Two Cities \n"
          ],
          "name": "stdout"
        }
      ]
    },
    {
      "cell_type": "code",
      "metadata": {
        "id": "ZcJXpEzJZerh",
        "colab": {
          "base_uri": "https://localhost:8080/",
          "height": 50
        },
        "outputId": "e9665559-b954-4ccc-8138-db87225aec47"
      },
      "source": [
        "x = int(input(\"Enter a  number: \"))\n",
        "\n",
        "for i in range(2,x):\n",
        "  if x % i==0:\n",
        "    print(\"Not a prime number\")\n",
        "    break\n",
        "      \n",
        "  else:\n",
        "    print(\"Prime number\")\n",
        "    break\n",
        "    \n",
        "else:\n",
        "  print(\"Enter a postive number \")      "
      ],
      "execution_count": null,
      "outputs": [
        {
          "output_type": "stream",
          "text": [
            "Enter a  number: 27\n",
            "Prime number\n"
          ],
          "name": "stdout"
        }
      ]
    },
    {
      "cell_type": "code",
      "metadata": {
        "id": "cas2uwr9xfGd",
        "colab": {
          "base_uri": "https://localhost:8080/",
          "height": 34
        },
        "outputId": "af6d55d2-0dc8-48c8-ffd0-57038dbafb87"
      },
      "source": [
        "#how to find a number if it is a prime or not\n",
        "#prime number is divisible by 1 and itself, 2, 3, 5, 7\n",
        "x = 9\n",
        "if x>1:\n",
        "    for i in range(2,x): # 2,3\n",
        "        if x % i == 0:\n",
        "            print(\"Not Prime\")\n",
        "            break\n",
        "    else:\n",
        "      print(\"Prime\")\n",
        "      \n"
      ],
      "execution_count": null,
      "outputs": [
        {
          "output_type": "stream",
          "text": [
            "Not Prime\n"
          ],
          "name": "stdout"
        }
      ]
    },
    {
      "cell_type": "code",
      "metadata": {
        "id": "BV60LrYR0oWp",
        "colab": {
          "base_uri": "https://localhost:8080/",
          "height": 50
        },
        "outputId": "45b98371-e2d6-4365-f5fb-9e87882a9efe"
      },
      "source": [
        "#how to find  factorial of a number\n",
        "# 4! = 4*3*2*1\n",
        "num = int(input(\"Enter a number:\"))\n",
        "factorial =1\n",
        "if num <0:\n",
        "  print(\"enter only postive number:\")\n",
        "elif num==0:\n",
        "  print(\"Factorial is 1\")\n",
        "else:\n",
        "  for number in range(1,num+1):\n",
        "    factorial = factorial * number\n",
        "print(factorial)  "
      ],
      "execution_count": null,
      "outputs": [
        {
          "output_type": "stream",
          "text": [
            "Enter a number:4\n",
            "24\n"
          ],
          "name": "stdout"
        }
      ]
    },
    {
      "cell_type": "code",
      "metadata": {
        "id": "vfAOUS3A6tdv",
        "colab": {
          "base_uri": "https://localhost:8080/",
          "height": 34
        },
        "outputId": "15fabde0-2db0-4a13-96a6-1612bbfd7f53"
      },
      "source": [
        "country = \"India\"\n",
        "State = \"Tamilnadu\"\n",
        "district = \"Chennai\"\n",
        "if country == \"India\":\n",
        "  if State == \"Tamilnadu\":\n",
        "    if district == \"Chennai\":\n",
        "      print(\"rooms available\")\n",
        "    else:\n",
        "      print(\"No service available\")\n",
        "else:\n",
        "  print(\"No service available\")      \n"
      ],
      "execution_count": null,
      "outputs": [
        {
          "output_type": "stream",
          "text": [
            "rooms available\n"
          ],
          "name": "stdout"
        }
      ]
    }
  ]
}